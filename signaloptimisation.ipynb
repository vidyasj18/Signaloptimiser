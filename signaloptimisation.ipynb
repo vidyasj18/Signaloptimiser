{
 "cells": [
  {
   "cell_type": "code",
   "execution_count": null,
   "id": "56db61bb-5474-4f62-94c6-e07cec724a62",
   "metadata": {},
   "outputs": [],
   "source": [
    "# Random Forest Reggression"
   ]
  },
  {
   "cell_type": "code",
   "execution_count": 9,
   "id": "d35e565a-895a-435d-bdf7-b716b86002b0",
   "metadata": {},
   "outputs": [],
   "source": [
    "import numpy as np\n",
    "import pandas as pd\n",
    "from sklearn.ensemble import RandomForestRegressor\n",
    "from sklearn.linear_model import LinearRegression\n",
    "from sklearn.model_selection import train_test_split\n",
    "from sklearn.metrics import mean_absolute_error\n",
    "from sklearn.metrics import mean_squared_error, r2_score\n"
   ]
  },
  {
   "cell_type": "code",
   "execution_count": 10,
   "id": "30417d05-e40a-4abc-a180-556e257bea9e",
   "metadata": {},
   "outputs": [],
   "source": [
    "# show Dataset"
   ]
  },
  {
   "cell_type": "code",
   "execution_count": 11,
   "id": "049512a9-b8d6-43e3-a765-4a9b66b06643",
   "metadata": {},
   "outputs": [],
   "source": [
    "FILE_PATH = \"./Turn_ratio.xlsx\""
   ]
  },
  {
   "cell_type": "code",
   "execution_count": 12,
   "id": "d6c5e3d0-50f8-4029-8568-6b91f9bb6e27",
   "metadata": {},
   "outputs": [],
   "source": [
    "# Some important data related to PCU"
   ]
  },
  {
   "cell_type": "code",
   "execution_count": 13,
   "id": "058baae1-5552-4dab-8c8d-08e1287f54d5",
   "metadata": {},
   "outputs": [],
   "source": [
    "PCU_FACTORS = {\n",
    "\"L\": 1.5, # Left turn\n",
    "\"T\": 1.0, # Through\n",
    "\"R\": 1.0 # Right turn\n",
    "}\n",
    "\n",
    "\n",
    "SAT_PER_LANE = 1800 # saturation flow in PCU/hr/lane\n",
    "DEFAULT_LANES = 2 # assumed lanes per approach\n",
    "DEFAULT_LOST_TIME = 12 # seconds lost per cycle (yellow + all-red + startup)"
   ]
  },
  {
   "cell_type": "code",
   "execution_count": 7,
   "id": "db507b3b-5155-4e1d-b949-f5e44baf4848",
   "metadata": {},
   "outputs": [],
   "source": [
    "# dataset "
   ]
  },
  {
   "cell_type": "code",
   "execution_count": 8,
   "id": "b2d82b60-d826-471b-b9a6-f189066b3f40",
   "metadata": {},
   "outputs": [
    {
     "name": "stdout",
     "output_type": "stream",
     "text": [
      "Defaulting to user installation because normal site-packages is not writeable\n",
      "Requirement already satisfied: openpyxl in c:\\users\\vidya\\appdata\\roaming\\python\\python313\\site-packages (3.1.5)\n",
      "Requirement already satisfied: et-xmlfile in c:\\users\\vidya\\appdata\\roaming\\python\\python313\\site-packages (from openpyxl) (2.0.0)\n",
      "Note: you may need to restart the kernel to use updated packages.\n"
     ]
    },
    {
     "name": "stderr",
     "output_type": "stream",
     "text": [
      "\n",
      "[notice] A new release of pip is available: 25.1.1 -> 25.2\n",
      "[notice] To update, run: python.exe -m pip install --upgrade pip\n"
     ]
    }
   ],
   "source": [
    "pip install openpyxl"
   ]
  },
  {
   "cell_type": "code",
   "execution_count": 14,
   "id": "86dbee1c-cbe7-401f-a328-98ca623892a5",
   "metadata": {},
   "outputs": [],
   "source": [
    "data = pd.read_excel(FILE_PATH)"
   ]
  },
  {
   "cell_type": "code",
   "execution_count": 15,
   "id": "8a08b2b3-dbdf-4c0f-9aa6-0a60497ed01b",
   "metadata": {},
   "outputs": [],
   "source": [
    "rename_map = {\n",
    "    \"Northbound Left\": \"NBL\",\n",
    "    \"Northbound Thru\": \"NBT\",\n",
    "    \"Northbound Right\": \"NBR\",\n",
    "    \"Southbound Left\": \"SBL\",\n",
    "    \"Southbound Thru\": \"SBT\",\n",
    "    \"Southbound Right\": \"SBR\",\n",
    "    \"Eastbound Left\": \"EBL\",\n",
    "    \"Eastbound Thru\": \"EBT\",\n",
    "    \"Eastbound Right\": \"EBR\",\n",
    "    \"Westbound Left\": \"WBL\",\n",
    "    \"Westbound Thru\": \"WBT\",\n",
    "    \"Westbound Right\": \"WBR\",\n",
    "}\n",
    "\n",
    "data = data.rename(columns=rename_map)\n"
   ]
  },
  {
   "cell_type": "code",
   "execution_count": 16,
   "id": "2a69a783-6797-4eab-b785-27e9b8fe0bee",
   "metadata": {},
   "outputs": [],
   "source": [
    "def compute_pcus(row):\n",
    "    pcu_N = row[\"NB_L\"] + row[\"NB_T\"] + row[\"NB_R\"]\n",
    "    pcu_S = row[\"SB_L\"] + row[\"SB_T\"] + row[\"SB_R\"]\n",
    "    pcu_E = row[\"EB_L\"] + row[\"EB_T\"] + row[\"EB_R\"]\n",
    "    pcu_W = row[\"WB_L\"] + row[\"WB_T\"] + row[\"WB_R\"]\n",
    "\n",
    "    return pd.Series({\n",
    "        \"pcu_N\": pcu_N,\n",
    "        \"pcu_S\": pcu_S,\n",
    "        \"pcu_E\": pcu_E,\n",
    "        \"pcu_W\": pcu_W,\n",
    "        \"pcu_NS\": pcu_N + pcu_S,  # North–South combined\n",
    "        \"pcu_EW\": pcu_E + pcu_W   # East–West combined\n",
    "    })\n",
    "\n",
    "pcu_data = data.apply(compute_pcus, axis=1)\n",
    "data = pd.concat([data, pcu_data], axis=1)\n"
   ]
  },
  {
   "cell_type": "code",
   "execution_count": 17,
   "id": "f8892130-152a-4833-8c3a-66145a2e982a",
   "metadata": {},
   "outputs": [
    {
     "name": "stdout",
     "output_type": "stream",
     "text": [
      "['Int#', 'NB_L', 'NB_T', 'NB_R', 'SB_L', 'SB_T', 'SB_R', 'EB_L', 'EB_T', 'EB_R', 'WB_L', 'WB_T', 'WB_R', 'pcu_N', 'pcu_S', 'pcu_E', 'pcu_W', 'pcu_NS', 'pcu_EW']\n"
     ]
    }
   ],
   "source": [
    "print(data.columns.tolist())"
   ]
  },
  {
   "cell_type": "code",
   "execution_count": 18,
   "id": "e530dbdc-4efb-4416-83a8-c059851e123b",
   "metadata": {},
   "outputs": [],
   "source": [
    "# websters formula"
   ]
  },
  {
   "cell_type": "code",
   "execution_count": 19,
   "id": "5283c42d-360e-4716-a8d9-1f5d59909e37",
   "metadata": {},
   "outputs": [
    {
     "name": "stdout",
     "output_type": "stream",
     "text": [
      "['Int#', 'NB_L', 'NB_T', 'NB_R', 'SB_L', 'SB_T', 'SB_R', 'EB_L', 'EB_T', 'EB_R', 'WB_L', 'WB_T', 'WB_R', 'pcu_N', 'pcu_S', 'pcu_E', 'pcu_W', 'pcu_NS', 'pcu_EW']\n"
     ]
    }
   ],
   "source": [
    "print(data.columns.tolist())"
   ]
  },
  {
   "cell_type": "code",
   "execution_count": 20,
   "id": "6aaac121-4ecc-40c0-966c-6baa23835532",
   "metadata": {},
   "outputs": [
    {
     "name": "stdout",
     "output_type": "stream",
     "text": [
      "\n",
      "Sample results with Webster timings:\n",
      "   pcu_NS  pcu_EW  cycle_length   green_NS   green_EW\n",
      "0     401     601     31.870670   7.952234  11.918436\n",
      "1     195     998     34.399668   3.661304  18.738364\n",
      "2     941     914     47.449857  17.982919  17.466937\n",
      "3     291    1365     42.592593   5.375872  25.216720\n",
      "4    1652    1206    111.590296  57.565840  42.024457\n"
     ]
    }
   ],
   "source": [
    "def webster_cycle_and_splits(row):\n",
    "    y_NS = row[\"pcu_NS\"] / (DEFAULT_LANES * SAT_PER_LANE)\n",
    "    y_EW = row[\"pcu_EW\"] / (DEFAULT_LANES * SAT_PER_LANE)\n",
    "    Y = y_NS + y_EW\n",
    "\n",
    "    if Y >= 1:  # oversaturated, formula invalid\n",
    "        return pd.Series({\n",
    "            \"cycle_length\": None,\n",
    "            \"green_NS\": None,\n",
    "            \"green_EW\": None\n",
    "        })\n",
    "\n",
    "    # Webster’s optimal cycle length\n",
    "    C = (1.5 * DEFAULT_LOST_TIME + 5) / (1 - Y)\n",
    "\n",
    "    # Green time splits proportional to flow ratios\n",
    "    green_NS = (y_NS / Y) * (C - DEFAULT_LOST_TIME)\n",
    "    green_EW = (y_EW / Y) * (C - DEFAULT_LOST_TIME)\n",
    "\n",
    "    return pd.Series({\n",
    "        \"cycle_length\": C,\n",
    "        \"green_NS\": green_NS,\n",
    "        \"green_EW\": green_EW\n",
    "    })\n",
    "\n",
    "webster_results = data.apply(webster_cycle_and_splits, axis=1)\n",
    "data = pd.concat([data, webster_results], axis=1)\n",
    "\n",
    "# Drop invalid rows (Y >= 1)\n",
    "data = data.dropna()\n",
    "\n",
    "print(\"\\nSample results with Webster timings:\")\n",
    "print(data[[\"pcu_NS\", \"pcu_EW\", \"cycle_length\", \"green_NS\", \"green_EW\"]].head())\n"
   ]
  },
  {
   "cell_type": "code",
   "execution_count": null,
   "id": "5dd64f1e-e975-4f11-b5f4-dbc011e5b649",
   "metadata": {},
   "outputs": [],
   "source": []
  },
  {
   "cell_type": "code",
   "execution_count": 21,
   "id": "db7390a6-e46d-40d9-a3e8-cb9eaebbcd49",
   "metadata": {},
   "outputs": [],
   "source": [
    "# training the model"
   ]
  },
  {
   "cell_type": "code",
   "execution_count": 22,
   "id": "e62d4365-8a4e-4fa2-95ec-334e650cc898",
   "metadata": {},
   "outputs": [],
   "source": [
    "X = data[[\"pcu_NS\", \"pcu_EW\"]]   # Features\n",
    "y = data[\"cycle_length\"]         # Target = Webster's cycle length\n",
    "\n",
    "X_train, X_test, y_train, y_test = train_test_split(X, y, test_size=0.2, random_state=42)\n",
    "\n",
    "model = LinearRegression()\n",
    "model.fit(X_train, y_train)\n",
    "\n",
    "y_pred = model.predict(X_test)"
   ]
  },
  {
   "cell_type": "code",
   "execution_count": 23,
   "id": "4a1f5c0b-7c38-421f-b648-e6732dbf7884",
   "metadata": {},
   "outputs": [],
   "source": [
    "# predict the optimised timing"
   ]
  },
  {
   "cell_type": "code",
   "execution_count": 24,
   "id": "08815628-72f7-4652-8808-702a56e7dc4b",
   "metadata": {},
   "outputs": [
    {
     "name": "stdout",
     "output_type": "stream",
     "text": [
      "Random Forest MSE: 5195.2019240198615\n",
      "ML Model Performance:\n",
      "R2 Score: 0.5610966943457762\n",
      "RMSE: 72.07774916033284\n"
     ]
    }
   ],
   "source": [
    "preds = model.predict(X_test)\n",
    "\n",
    "\n",
    "# Evaluate\n",
    "mse = mean_squared_error(y_test, preds)\n",
    "print(\"Random Forest MSE:\", mse)\n",
    "\n",
    "print(\"ML Model Performance:\")\n",
    "print(\"R2 Score:\", r2_score(y_test, y_pred))\n",
    "print(\"RMSE:\", np.sqrt(mean_squared_error(y_test, y_pred)))\n"
   ]
  },
  {
   "cell_type": "code",
   "execution_count": 25,
   "id": "c997000f-9c79-41cd-9311-a80b6677848e",
   "metadata": {},
   "outputs": [],
   "source": [
    "# testing on some example"
   ]
  },
  {
   "cell_type": "code",
   "execution_count": 28,
   "id": "86519ae7-5bd1-4965-840a-fa784222dee7",
   "metadata": {},
   "outputs": [
    {
     "name": "stdout",
     "output_type": "stream",
     "text": [
      "\n",
      "Predicted cycle length for new input:\n",
      "[25.61416683]\n"
     ]
    }
   ],
   "source": [
    "example = pd.DataFrame({\"pcu_NS\": [900], \"pcu_EW\": [700]})\n",
    "print(\"\\nPredicted cycle length for new input:\")\n",
    "print(model.predict(example))"
   ]
  },
  {
   "cell_type": "code",
   "execution_count": null,
   "id": "37dab37e-f31d-4241-b66d-373708383146",
   "metadata": {},
   "outputs": [],
   "source": []
  }
 ],
 "metadata": {
  "kernelspec": {
   "display_name": "Python 3 (ipykernel)",
   "language": "python",
   "name": "python3"
  },
  "language_info": {
   "codemirror_mode": {
    "name": "ipython",
    "version": 3
   },
   "file_extension": ".py",
   "mimetype": "text/x-python",
   "name": "python",
   "nbconvert_exporter": "python",
   "pygments_lexer": "ipython3",
   "version": "3.13.2"
  }
 },
 "nbformat": 4,
 "nbformat_minor": 5
}
